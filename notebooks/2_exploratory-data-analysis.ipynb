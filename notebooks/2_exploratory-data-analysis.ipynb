{
 "cells": [
  {
   "cell_type": "markdown",
   "metadata": {},
   "source": [
    "# Análise Exploratória de Dados do miRWalk"
   ]
  },
  {
   "cell_type": "markdown",
   "metadata": {},
   "source": [
    "# Importação das Bibiotecas"
   ]
  },
  {
   "cell_type": "code",
   "execution_count": 1,
   "metadata": {},
   "outputs": [],
   "source": [
    "from pathlib import Path\n",
    "import numpy as np\n",
    "import pandas as pd"
   ]
  },
  {
   "cell_type": "markdown",
   "metadata": {},
   "source": [
    "# Constantes"
   ]
  },
  {
   "cell_type": "code",
   "execution_count": 2,
   "metadata": {},
   "outputs": [],
   "source": [
    "# Caminho da pasta raiz de dados\n",
    "DATA_PATH = Path.cwd().parent / 'data'\n",
    "\n",
    "# Caminho da pasta de dados intermediários\n",
    "INTERIM_DATA_PATH = DATA_PATH / 'interim'"
   ]
  },
  {
   "cell_type": "markdown",
   "metadata": {},
   "source": [
    "# Carregamento de Dados"
   ]
  },
  {
   "cell_type": "code",
   "execution_count": 3,
   "metadata": {},
   "outputs": [],
   "source": [
    "# Lê o arquivo um arquivo com as interações mineradas no miRWalk\n",
    "df_interactions = pd.read_csv(\n",
    "    filepath_or_buffer=Path(INTERIM_DATA_PATH / 'miRWalk-interactions.csv')\n",
    ")"
   ]
  },
  {
   "cell_type": "markdown",
   "metadata": {},
   "source": [
    "# Visualização de uma Amostra de Dados"
   ]
  },
  {
   "cell_type": "code",
   "execution_count": 4,
   "metadata": {},
   "outputs": [
    {
     "data": {
      "text/plain": [
       "Index(['mirnaid', 'refseqid', 'genesymbol', 'duplex', 'start', 'end',\n",
       "       'bindingp', 'energy', 'seed', 'accessibility', 'au', 'phylopstem',\n",
       "       'phylopflank', 'me', 'number_of_pairings', 'binding_region_length',\n",
       "       'longest_consecutive_pairings', 'position', 'validated', 'TargetScan',\n",
       "       'miRDB'],\n",
       "      dtype='object')"
      ]
     },
     "execution_count": 4,
     "metadata": {},
     "output_type": "execute_result"
    }
   ],
   "source": [
    "# Imprime os nomes de todas as colunas\n",
    "df_interactions.columns"
   ]
  },
  {
   "cell_type": "code",
   "execution_count": 5,
   "metadata": {},
   "outputs": [
    {
     "data": {
      "text/html": [
       "<div>\n",
       "<style scoped>\n",
       "    .dataframe tbody tr th:only-of-type {\n",
       "        vertical-align: middle;\n",
       "    }\n",
       "\n",
       "    .dataframe tbody tr th {\n",
       "        vertical-align: top;\n",
       "    }\n",
       "\n",
       "    .dataframe thead th {\n",
       "        text-align: right;\n",
       "    }\n",
       "</style>\n",
       "<table border=\"1\" class=\"dataframe\">\n",
       "  <thead>\n",
       "    <tr style=\"text-align: right;\">\n",
       "      <th></th>\n",
       "      <th>mirnaid</th>\n",
       "      <th>refseqid</th>\n",
       "      <th>genesymbol</th>\n",
       "      <th>duplex</th>\n",
       "      <th>start</th>\n",
       "      <th>end</th>\n",
       "      <th>bindingp</th>\n",
       "      <th>energy</th>\n",
       "      <th>seed</th>\n",
       "      <th>accessibility</th>\n",
       "      <th>au</th>\n",
       "      <th>phylopstem</th>\n",
       "      <th>phylopflank</th>\n",
       "      <th>me</th>\n",
       "      <th>number_of_pairings</th>\n",
       "      <th>binding_region_length</th>\n",
       "      <th>longest_consecutive_pairings</th>\n",
       "      <th>position</th>\n",
       "      <th>validated</th>\n",
       "      <th>TargetScan</th>\n",
       "      <th>miRDB</th>\n",
       "    </tr>\n",
       "  </thead>\n",
       "  <tbody>\n",
       "    <tr>\n",
       "      <th>0</th>\n",
       "      <td>hsa-miR-495-3p</td>\n",
       "      <td>NM_001330416</td>\n",
       "      <td>ST8SIA2</td>\n",
       "      <td>AAACAAACATGGTGCACTTCTT#GTGCACCGTT#........((((...</td>\n",
       "      <td>3595</td>\n",
       "      <td>3605</td>\n",
       "      <td>0.846154</td>\n",
       "      <td>-15.3</td>\n",
       "      <td>0</td>\n",
       "      <td>0.029613</td>\n",
       "      <td>0.441</td>\n",
       "      <td>4.187171</td>\n",
       "      <td>5.161961</td>\n",
       "      <td>-19.423880</td>\n",
       "      <td>9</td>\n",
       "      <td>10</td>\n",
       "      <td>9</td>\n",
       "      <td>3UTR</td>\n",
       "      <td>NaN</td>\n",
       "      <td>1</td>\n",
       "      <td>1</td>\n",
       "    </tr>\n",
       "    <tr>\n",
       "      <th>1</th>\n",
       "      <td>hsa-miR-495-3p</td>\n",
       "      <td>NM_001330420</td>\n",
       "      <td>LUC7L</td>\n",
       "      <td>AAACAAACATGGTGCACTTCTT#AGAAGTGTACAGAGTTGCTCCTG...</td>\n",
       "      <td>2462</td>\n",
       "      <td>2507</td>\n",
       "      <td>0.846154</td>\n",
       "      <td>-16.4</td>\n",
       "      <td>0</td>\n",
       "      <td>0.004972</td>\n",
       "      <td>0.529</td>\n",
       "      <td>4.368170</td>\n",
       "      <td>5.301501</td>\n",
       "      <td>-9.076038</td>\n",
       "      <td>18</td>\n",
       "      <td>45</td>\n",
       "      <td>10</td>\n",
       "      <td>3UTR</td>\n",
       "      <td>NaN</td>\n",
       "      <td>0</td>\n",
       "      <td>0</td>\n",
       "    </tr>\n",
       "    <tr>\n",
       "      <th>2</th>\n",
       "      <td>hsa-miR-495-3p</td>\n",
       "      <td>NM_001330425</td>\n",
       "      <td>NAGK</td>\n",
       "      <td>AAACAAACATGGTGCACTTCTT#GTGACACTATGTGTTGTG#..((...</td>\n",
       "      <td>1699</td>\n",
       "      <td>1717</td>\n",
       "      <td>0.846154</td>\n",
       "      <td>-16.7</td>\n",
       "      <td>1</td>\n",
       "      <td>0.000437</td>\n",
       "      <td>0.500</td>\n",
       "      <td>5.845809</td>\n",
       "      <td>5.747344</td>\n",
       "      <td>-4.957001</td>\n",
       "      <td>15</td>\n",
       "      <td>18</td>\n",
       "      <td>8</td>\n",
       "      <td>3UTR</td>\n",
       "      <td>NaN</td>\n",
       "      <td>0</td>\n",
       "      <td>0</td>\n",
       "    </tr>\n",
       "    <tr>\n",
       "      <th>3</th>\n",
       "      <td>hsa-miR-495-3p</td>\n",
       "      <td>NM_001330437</td>\n",
       "      <td>PTPN11</td>\n",
       "      <td>AAACAAACATGGTGCACTTCTT#AGGAGGTGCACCATA#..........</td>\n",
       "      <td>1495</td>\n",
       "      <td>1510</td>\n",
       "      <td>0.846154</td>\n",
       "      <td>-22.0</td>\n",
       "      <td>0</td>\n",
       "      <td>0.001344</td>\n",
       "      <td>0.368</td>\n",
       "      <td>5.191274</td>\n",
       "      <td>4.818038</td>\n",
       "      <td>-19.423880</td>\n",
       "      <td>14</td>\n",
       "      <td>15</td>\n",
       "      <td>14</td>\n",
       "      <td>CDS</td>\n",
       "      <td>NaN</td>\n",
       "      <td>0</td>\n",
       "      <td>0</td>\n",
       "    </tr>\n",
       "    <tr>\n",
       "      <th>4</th>\n",
       "      <td>hsa-miR-495-3p</td>\n",
       "      <td>NM_001330438</td>\n",
       "      <td>DDX25</td>\n",
       "      <td>AAACAAACATGGTGCACTTCTT#GAGAAGTGTATCCAGATACTTTG...</td>\n",
       "      <td>3709</td>\n",
       "      <td>3735</td>\n",
       "      <td>0.884615</td>\n",
       "      <td>-18.7</td>\n",
       "      <td>1</td>\n",
       "      <td>0.000172</td>\n",
       "      <td>0.603</td>\n",
       "      <td>-0.342248</td>\n",
       "      <td>0.030155</td>\n",
       "      <td>-7.163349</td>\n",
       "      <td>19</td>\n",
       "      <td>26</td>\n",
       "      <td>10</td>\n",
       "      <td>3UTR</td>\n",
       "      <td>NaN</td>\n",
       "      <td>0</td>\n",
       "      <td>0</td>\n",
       "    </tr>\n",
       "  </tbody>\n",
       "</table>\n",
       "</div>"
      ],
      "text/plain": [
       "          mirnaid      refseqid genesymbol  \\\n",
       "0  hsa-miR-495-3p  NM_001330416    ST8SIA2   \n",
       "1  hsa-miR-495-3p  NM_001330420      LUC7L   \n",
       "2  hsa-miR-495-3p  NM_001330425       NAGK   \n",
       "3  hsa-miR-495-3p  NM_001330437     PTPN11   \n",
       "4  hsa-miR-495-3p  NM_001330438      DDX25   \n",
       "\n",
       "                                              duplex  start   end  bindingp  \\\n",
       "0  AAACAAACATGGTGCACTTCTT#GTGCACCGTT#........((((...   3595  3605  0.846154   \n",
       "1  AAACAAACATGGTGCACTTCTT#AGAAGTGTACAGAGTTGCTCCTG...   2462  2507  0.846154   \n",
       "2  AAACAAACATGGTGCACTTCTT#GTGACACTATGTGTTGTG#..((...   1699  1717  0.846154   \n",
       "3  AAACAAACATGGTGCACTTCTT#AGGAGGTGCACCATA#..........   1495  1510  0.846154   \n",
       "4  AAACAAACATGGTGCACTTCTT#GAGAAGTGTATCCAGATACTTTG...   3709  3735  0.884615   \n",
       "\n",
       "   energy  seed  accessibility     au  phylopstem  phylopflank         me  \\\n",
       "0   -15.3     0       0.029613  0.441    4.187171     5.161961 -19.423880   \n",
       "1   -16.4     0       0.004972  0.529    4.368170     5.301501  -9.076038   \n",
       "2   -16.7     1       0.000437  0.500    5.845809     5.747344  -4.957001   \n",
       "3   -22.0     0       0.001344  0.368    5.191274     4.818038 -19.423880   \n",
       "4   -18.7     1       0.000172  0.603   -0.342248     0.030155  -7.163349   \n",
       "\n",
       "   number_of_pairings  binding_region_length  longest_consecutive_pairings  \\\n",
       "0                   9                     10                             9   \n",
       "1                  18                     45                            10   \n",
       "2                  15                     18                             8   \n",
       "3                  14                     15                            14   \n",
       "4                  19                     26                            10   \n",
       "\n",
       "  position validated  TargetScan  miRDB  \n",
       "0     3UTR       NaN           1      1  \n",
       "1     3UTR       NaN           0      0  \n",
       "2     3UTR       NaN           0      0  \n",
       "3      CDS       NaN           0      0  \n",
       "4     3UTR       NaN           0      0  "
      ]
     },
     "execution_count": 5,
     "metadata": {},
     "output_type": "execute_result"
    }
   ],
   "source": [
    "# Imprime uma amostra dos dados\n",
    "pd.set_option('display.max_columns', df_interactions.shape[1])\n",
    "df_interactions.head()"
   ]
  },
  {
   "cell_type": "markdown",
   "metadata": {},
   "source": [
    "# Preparação dos Dados"
   ]
  },
  {
   "cell_type": "code",
   "execution_count": 6,
   "metadata": {},
   "outputs": [],
   "source": [
    "# Colunas com dados de interesse\n",
    "columns = [\n",
    "    'mirnaid',     # id do microRNA\n",
    "    'refseqid',    # id RNA mensageiro\n",
    "    'genesymbol',  # id gene\n",
    "    'bindingp',    # p-valor do algoritmo TarPmiR\n",
    "    'validated',   # id do miRTarBase\n",
    "    'TargetScan',  # interação predita pelo TargetScanHuman\n",
    "    'miRDB'        # interação predita pelo miRDB\n",
    "]\n",
    "\n",
    "# Seleciona as colunas com os dados de interesse\n",
    "df_eda = df_interactions[columns].copy()\n",
    "\n",
    "# Cria coluna para indicar se a interação foi validada pelo miRTarBase\n",
    "df_eda['miRTarBase'] = np.where(df_eda['validated'].isna(), 0, 1)"
   ]
  },
  {
   "cell_type": "code",
   "execution_count": 7,
   "metadata": {},
   "outputs": [
    {
     "data": {
      "text/html": [
       "<div>\n",
       "<style scoped>\n",
       "    .dataframe tbody tr th:only-of-type {\n",
       "        vertical-align: middle;\n",
       "    }\n",
       "\n",
       "    .dataframe tbody tr th {\n",
       "        vertical-align: top;\n",
       "    }\n",
       "\n",
       "    .dataframe thead th {\n",
       "        text-align: right;\n",
       "    }\n",
       "</style>\n",
       "<table border=\"1\" class=\"dataframe\">\n",
       "  <thead>\n",
       "    <tr style=\"text-align: right;\">\n",
       "      <th></th>\n",
       "      <th>mirnaid</th>\n",
       "      <th>refseqid</th>\n",
       "      <th>genesymbol</th>\n",
       "      <th>bindingp</th>\n",
       "      <th>validated</th>\n",
       "      <th>TargetScan</th>\n",
       "      <th>miRDB</th>\n",
       "      <th>miRTarBase</th>\n",
       "    </tr>\n",
       "  </thead>\n",
       "  <tbody>\n",
       "    <tr>\n",
       "      <th>0</th>\n",
       "      <td>hsa-miR-495-3p</td>\n",
       "      <td>NM_001330416</td>\n",
       "      <td>ST8SIA2</td>\n",
       "      <td>0.846154</td>\n",
       "      <td>NaN</td>\n",
       "      <td>1</td>\n",
       "      <td>1</td>\n",
       "      <td>0</td>\n",
       "    </tr>\n",
       "    <tr>\n",
       "      <th>1</th>\n",
       "      <td>hsa-miR-495-3p</td>\n",
       "      <td>NM_001330420</td>\n",
       "      <td>LUC7L</td>\n",
       "      <td>0.846154</td>\n",
       "      <td>NaN</td>\n",
       "      <td>0</td>\n",
       "      <td>0</td>\n",
       "      <td>0</td>\n",
       "    </tr>\n",
       "    <tr>\n",
       "      <th>2</th>\n",
       "      <td>hsa-miR-495-3p</td>\n",
       "      <td>NM_001330425</td>\n",
       "      <td>NAGK</td>\n",
       "      <td>0.846154</td>\n",
       "      <td>NaN</td>\n",
       "      <td>0</td>\n",
       "      <td>0</td>\n",
       "      <td>0</td>\n",
       "    </tr>\n",
       "    <tr>\n",
       "      <th>3</th>\n",
       "      <td>hsa-miR-495-3p</td>\n",
       "      <td>NM_001330437</td>\n",
       "      <td>PTPN11</td>\n",
       "      <td>0.846154</td>\n",
       "      <td>NaN</td>\n",
       "      <td>0</td>\n",
       "      <td>0</td>\n",
       "      <td>0</td>\n",
       "    </tr>\n",
       "    <tr>\n",
       "      <th>4</th>\n",
       "      <td>hsa-miR-495-3p</td>\n",
       "      <td>NM_001330438</td>\n",
       "      <td>DDX25</td>\n",
       "      <td>0.884615</td>\n",
       "      <td>NaN</td>\n",
       "      <td>0</td>\n",
       "      <td>0</td>\n",
       "      <td>0</td>\n",
       "    </tr>\n",
       "    <tr>\n",
       "      <th>...</th>\n",
       "      <td>...</td>\n",
       "      <td>...</td>\n",
       "      <td>...</td>\n",
       "      <td>...</td>\n",
       "      <td>...</td>\n",
       "      <td>...</td>\n",
       "      <td>...</td>\n",
       "      <td>...</td>\n",
       "    </tr>\n",
       "    <tr>\n",
       "      <th>1449871</th>\n",
       "      <td>hsa-miR-496</td>\n",
       "      <td>NM_001042364</td>\n",
       "      <td>PTPN20</td>\n",
       "      <td>1.000000</td>\n",
       "      <td>NaN</td>\n",
       "      <td>0</td>\n",
       "      <td>0</td>\n",
       "      <td>0</td>\n",
       "    </tr>\n",
       "    <tr>\n",
       "      <th>1449872</th>\n",
       "      <td>hsa-miR-496</td>\n",
       "      <td>NM_001042440</td>\n",
       "      <td>CAST</td>\n",
       "      <td>1.000000</td>\n",
       "      <td>NaN</td>\n",
       "      <td>0</td>\n",
       "      <td>0</td>\n",
       "      <td>0</td>\n",
       "    </tr>\n",
       "    <tr>\n",
       "      <th>1449873</th>\n",
       "      <td>hsa-miR-496</td>\n",
       "      <td>NM_001042442</td>\n",
       "      <td>CAST</td>\n",
       "      <td>1.000000</td>\n",
       "      <td>NaN</td>\n",
       "      <td>0</td>\n",
       "      <td>0</td>\n",
       "      <td>0</td>\n",
       "    </tr>\n",
       "    <tr>\n",
       "      <th>1449874</th>\n",
       "      <td>hsa-miR-496</td>\n",
       "      <td>NM_001042443</td>\n",
       "      <td>CAST</td>\n",
       "      <td>1.000000</td>\n",
       "      <td>NaN</td>\n",
       "      <td>0</td>\n",
       "      <td>0</td>\n",
       "      <td>0</td>\n",
       "    </tr>\n",
       "    <tr>\n",
       "      <th>1449875</th>\n",
       "      <td>hsa-miR-496</td>\n",
       "      <td>NM_001042444</td>\n",
       "      <td>CAST</td>\n",
       "      <td>1.000000</td>\n",
       "      <td>NaN</td>\n",
       "      <td>0</td>\n",
       "      <td>0</td>\n",
       "      <td>0</td>\n",
       "    </tr>\n",
       "  </tbody>\n",
       "</table>\n",
       "<p>1449876 rows × 8 columns</p>\n",
       "</div>"
      ],
      "text/plain": [
       "                mirnaid      refseqid genesymbol  bindingp validated  \\\n",
       "0        hsa-miR-495-3p  NM_001330416    ST8SIA2  0.846154       NaN   \n",
       "1        hsa-miR-495-3p  NM_001330420      LUC7L  0.846154       NaN   \n",
       "2        hsa-miR-495-3p  NM_001330425       NAGK  0.846154       NaN   \n",
       "3        hsa-miR-495-3p  NM_001330437     PTPN11  0.846154       NaN   \n",
       "4        hsa-miR-495-3p  NM_001330438      DDX25  0.884615       NaN   \n",
       "...                 ...           ...        ...       ...       ...   \n",
       "1449871     hsa-miR-496  NM_001042364     PTPN20  1.000000       NaN   \n",
       "1449872     hsa-miR-496  NM_001042440       CAST  1.000000       NaN   \n",
       "1449873     hsa-miR-496  NM_001042442       CAST  1.000000       NaN   \n",
       "1449874     hsa-miR-496  NM_001042443       CAST  1.000000       NaN   \n",
       "1449875     hsa-miR-496  NM_001042444       CAST  1.000000       NaN   \n",
       "\n",
       "         TargetScan  miRDB  miRTarBase  \n",
       "0                 1      1           0  \n",
       "1                 0      0           0  \n",
       "2                 0      0           0  \n",
       "3                 0      0           0  \n",
       "4                 0      0           0  \n",
       "...             ...    ...         ...  \n",
       "1449871           0      0           0  \n",
       "1449872           0      0           0  \n",
       "1449873           0      0           0  \n",
       "1449874           0      0           0  \n",
       "1449875           0      0           0  \n",
       "\n",
       "[1449876 rows x 8 columns]"
      ]
     },
     "execution_count": 7,
     "metadata": {},
     "output_type": "execute_result"
    }
   ],
   "source": [
    "# Imprime o DataFrame preparado para a análise exploratória\n",
    "df_eda"
   ]
  },
  {
   "cell_type": "markdown",
   "metadata": {},
   "source": [
    "# Análise Exploratória"
   ]
  },
  {
   "cell_type": "markdown",
   "metadata": {},
   "source": [
    "## MicroRNAs"
   ]
  },
  {
   "cell_type": "code",
   "execution_count": 8,
   "metadata": {},
   "outputs": [
    {
     "data": {
      "text/plain": [
       "44"
      ]
     },
     "execution_count": 8,
     "metadata": {},
     "output_type": "execute_result"
    }
   ],
   "source": [
    "# Total de microRNAs\n",
    "df_eda['mirnaid'].nunique()"
   ]
  },
  {
   "cell_type": "code",
   "execution_count": 9,
   "metadata": {},
   "outputs": [
    {
     "data": {
      "text/plain": [
       "count       44.000000\n",
       "mean     32951.727273\n",
       "std      23397.920592\n",
       "min       1285.000000\n",
       "25%      10658.250000\n",
       "50%      30306.500000\n",
       "75%      56759.250000\n",
       "max      73687.000000\n",
       "Name: mirnaid, dtype: float64"
      ]
     },
     "execution_count": 9,
     "metadata": {},
     "output_type": "execute_result"
    }
   ],
   "source": [
    "# Interações por microRNA\n",
    "df_eda['mirnaid'].value_counts().describe()"
   ]
  },
  {
   "cell_type": "markdown",
   "metadata": {},
   "source": [
    "## RNAs Mensageiros"
   ]
  },
  {
   "cell_type": "code",
   "execution_count": 10,
   "metadata": {},
   "outputs": [
    {
     "data": {
      "text/plain": [
       "47560"
      ]
     },
     "execution_count": 10,
     "metadata": {},
     "output_type": "execute_result"
    }
   ],
   "source": [
    "# Total de RNAs mensageiros\n",
    "df_eda['refseqid'].nunique()"
   ]
  },
  {
   "cell_type": "code",
   "execution_count": 11,
   "metadata": {},
   "outputs": [
    {
     "data": {
      "text/plain": [
       "count    47560.000000\n",
       "mean        30.485198\n",
       "std         11.995171\n",
       "min          1.000000\n",
       "25%         22.000000\n",
       "50%         29.000000\n",
       "75%         38.000000\n",
       "max        103.000000\n",
       "Name: refseqid, dtype: float64"
      ]
     },
     "execution_count": 11,
     "metadata": {},
     "output_type": "execute_result"
    }
   ],
   "source": [
    "# Interações por RNA mensageiro\n",
    "df_eda['refseqid'].value_counts().describe()"
   ]
  },
  {
   "cell_type": "markdown",
   "metadata": {},
   "source": [
    "## Genes"
   ]
  },
  {
   "cell_type": "code",
   "execution_count": 12,
   "metadata": {},
   "outputs": [
    {
     "data": {
      "text/plain": [
       "19341"
      ]
     },
     "execution_count": 12,
     "metadata": {},
     "output_type": "execute_result"
    }
   ],
   "source": [
    "# Total de genes\n",
    "df_eda['genesymbol'].nunique()"
   ]
  },
  {
   "cell_type": "code",
   "execution_count": 13,
   "metadata": {},
   "outputs": [
    {
     "data": {
      "text/plain": [
       "count    19341.000000\n",
       "mean        74.963859\n",
       "std         82.356375\n",
       "min          1.000000\n",
       "25%         28.000000\n",
       "50%         49.000000\n",
       "75%         94.000000\n",
       "max       1905.000000\n",
       "Name: genesymbol, dtype: float64"
      ]
     },
     "execution_count": 13,
     "metadata": {},
     "output_type": "execute_result"
    }
   ],
   "source": [
    "# Interações por gene\n",
    "df_eda['genesymbol'].value_counts().describe()"
   ]
  },
  {
   "cell_type": "markdown",
   "metadata": {},
   "source": [
    "## Interações"
   ]
  },
  {
   "cell_type": "code",
   "execution_count": 14,
   "metadata": {},
   "outputs": [
    {
     "data": {
      "text/plain": [
       "1449876"
      ]
     },
     "execution_count": 14,
     "metadata": {},
     "output_type": "execute_result"
    }
   ],
   "source": [
    "# Total de interações\n",
    "df_eda.shape[0]"
   ]
  },
  {
   "cell_type": "code",
   "execution_count": 15,
   "metadata": {},
   "outputs": [
    {
     "data": {
      "text/plain": [
       "count    966523.000000\n",
       "mean          1.500095\n",
       "std           0.707323\n",
       "min           1.000000\n",
       "25%           1.000000\n",
       "50%           1.000000\n",
       "75%           2.000000\n",
       "max           5.000000\n",
       "dtype: float64"
      ]
     },
     "execution_count": 15,
     "metadata": {},
     "output_type": "execute_result"
    }
   ],
   "source": [
    "# Interações por par microRNA-RNA mensageiro\n",
    "df_eda[['mirnaid', 'refseqid']].value_counts().describe()"
   ]
  },
  {
   "cell_type": "code",
   "execution_count": 16,
   "metadata": {},
   "outputs": [
    {
     "data": {
      "text/plain": [
       "count    1.449876e+06\n",
       "mean     9.103747e-01\n",
       "std      6.120402e-02\n",
       "min      8.012821e-01\n",
       "25%      8.461538e-01\n",
       "50%      9.230769e-01\n",
       "75%      9.615385e-01\n",
       "max      1.000000e+00\n",
       "Name: bindingp, dtype: float64"
      ]
     },
     "execution_count": 16,
     "metadata": {},
     "output_type": "execute_result"
    }
   ],
   "source": [
    "# Descrição do p-valor por interação\n",
    "df_eda['bindingp'].describe()"
   ]
  },
  {
   "cell_type": "code",
   "execution_count": 17,
   "metadata": {},
   "outputs": [
    {
     "data": {
      "text/plain": [
       "miRTarBase  TargetScan  miRDB\n",
       "0           0           0        1356245\n",
       "                        1          50829\n",
       "            1           0          13898\n",
       "                        1          12468\n",
       "1           0           0          12327\n",
       "                        1           2620\n",
       "            1           1            873\n",
       "                        0            616\n",
       "dtype: int64"
      ]
     },
     "execution_count": 17,
     "metadata": {},
     "output_type": "execute_result"
    }
   ],
   "source": [
    "# Interações por caracterização (validada e/ou predita)\n",
    "df_eda[['miRTarBase', 'TargetScan', 'miRDB']].value_counts()"
   ]
  },
  {
   "cell_type": "code",
   "execution_count": 18,
   "metadata": {},
   "outputs": [
    {
     "data": {
      "text/plain": [
       "93631"
      ]
     },
     "execution_count": 18,
     "metadata": {},
     "output_type": "execute_result"
    }
   ],
   "source": [
    "# Total de interações de interesse\n",
    "df_eda.query(\n",
    "    '(bindingp >= 0.8) and ' +\n",
    "    '(miRTarBase == 1 or TargetScan == 1 or miRDB == 1)'\n",
    ").shape[0]"
   ]
  }
 ],
 "metadata": {
  "kernelspec": {
   "display_name": "Python 3",
   "language": "python",
   "name": "python3"
  },
  "language_info": {
   "codemirror_mode": {
    "name": "ipython",
    "version": 3
   },
   "file_extension": ".py",
   "mimetype": "text/x-python",
   "name": "python",
   "nbconvert_exporter": "python",
   "pygments_lexer": "ipython3",
   "version": "3.8.10"
  }
 },
 "nbformat": 4,
 "nbformat_minor": 2
}
